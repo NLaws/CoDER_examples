{
 "cells": [
  {
   "cell_type": "code",
   "execution_count": 56,
   "metadata": {},
   "outputs": [],
   "source": [
    "using JSON, DelimitedFiles\n",
    "clmp = vec(readdlm(\"./data/cleaned_ercot2019_RTprices.csv\", ',', Float64, '\\n'));\n",
    "clmp = abs.(clmp) / 1e3;  # problem is unbounded with negative prices, convert from $/MWh to $/kWh"
   ]
  },
  {
   "cell_type": "code",
   "execution_count": 2,
   "metadata": {},
   "outputs": [
    {
     "data": {
      "text/plain": [
       "get_dict"
      ]
     },
     "execution_count": 2,
     "metadata": {},
     "output_type": "execute_result"
    }
   ],
   "source": [
    "\"\"\"\n",
    "    get_dict(fp::String)\n",
    "\n",
    "load in a JSON file from `fp` and return a Dict\n",
    "\"\"\"\n",
    "function get_dict(fp::String)\n",
    "    JSON.parsefile(fp)\n",
    "end"
   ]
  },
  {
   "cell_type": "code",
   "execution_count": 91,
   "metadata": {},
   "outputs": [
    {
     "data": {
      "text/plain": [
       "Dict{String, Any} with 2768182 entries:\n",
       "  \"vsqrd[26,2789]\"            => 0.809491\n",
       "  \"yi[31,7031]\"               => 0.0304278\n",
       "  \"Qⱼ[22,8046]\"               => -0.00169031\n",
       "  \"bydd[9,3236]\"              => 0.0\n",
       "  \"Qⱼ[8,7994]\"                => 0.0\n",
       "  \"Qⱼ[25,5164]\"               => -0.022689\n",
       "  \"bye[17,6515]\"              => 1.0\n",
       "  \"Qᵢⱼ[11-12,7360]\"           => 1.184\n",
       "  \"bye[34,2242]\"              => 1.0\n",
       "  \"Qⱼ[8,6856]\"                => 0.0\n",
       "  \"ytemperature[5,2932]\"      => -1.44192\n",
       "  \"xe[9,4931]\"                => 0.25\n",
       "  \"lambda_warehouse[10,5279]\" => 106.413\n",
       "  \"byi[9,2796]\"               => 1.0\n",
       "  \"Pᵢⱼ[0-1,3153]\"             => 34.5458\n",
       "  \"Qⱼ[5,636]\"                 => -0.305425\n",
       "  \"Qⱼ[0,8501]\"                => 1.0113\n",
       "  \"Pⱼ[9,4121]\"                => -0.0137877\n",
       "  \"vsqrd[34,11]\"              => 1.00445\n",
       "  \"Qⱼ[18,3455]\"               => -0.00191262\n",
       "  \"xe[34,4770]\"               => 0.25\n",
       "  \"bypvprod[9,1587]\"          => 0.0\n",
       "  \"yi[15,4201]\"               => 10.7912\n",
       "  \"Pⱼ[12,3912]\"               => -0.010623\n",
       "  \"Pⱼ[29,7061]\"               => 0.0\n",
       "  ⋮                           => ⋮"
      ]
     },
     "execution_count": 91,
     "metadata": {},
     "output_type": "execute_result"
    }
   ],
   "source": [
    "r = get_dict(\"results_pwf1x.json\")"
   ]
  },
  {
   "cell_type": "code",
   "execution_count": 86,
   "metadata": {},
   "outputs": [
    {
     "data": {
      "text/plain": [
       "get_vals"
      ]
     },
     "execution_count": 86,
     "metadata": {},
     "output_type": "execute_result"
    }
   ],
   "source": [
    "\"\"\"\n",
    "    get_vals(v::String, d::Dict)\n",
    "\n",
    "Given the variable name `v` find all values in Dict `d` \n",
    "that contain `v` in the keys\n",
    "\"\"\"\n",
    "function get_vals(s::String, d::Dict; T=8760)\n",
    "    filterkeys = filter(n -> startswith(n, s*\"[\"), keys(r))\n",
    "    if T > 1\n",
    "        try\n",
    "            nnodes = Int(length(filterkeys) / T)\n",
    "            if nnodes > 1\n",
    "                a = Dict{String, Vector{Float64}}()\n",
    "                for k in filterkeys\n",
    "                    n = k[ findfirst('[', k)+1: findfirst(',', k)-1]\n",
    "                    t = parse(Int, k[ findfirst(',', k)+1: findfirst(']', k)-1])\n",
    "                    if !(n in keys(a))\n",
    "                        a[n] = zeros(T)\n",
    "                    end\n",
    "                    a[n][t] = d[k]\n",
    "                end\n",
    "                return a\n",
    "            else  # for no node indices\n",
    "                a = zeros(T)\n",
    "                if !(length(filterkeys) == T)\n",
    "                    @warn \"There are $(length(filterkeys)) filterkeys, and looking for $T values!\"\n",
    "                end\n",
    "                for k in filterkeys\n",
    "                    t = parse(Int, k[ findfirst('[', k)+1: findfirst(']', k)-1])\n",
    "                    a[t] = d[k]\n",
    "                end\n",
    "                return a  \n",
    "            end\n",
    "        catch\n",
    "            println(filterkeys)\n",
    "        end\n",
    "    elseif T == 0\n",
    "        try\n",
    "            nnodes = Int(length(filterkeys))\n",
    "            a = Dict{String, Float64}()\n",
    "            for k in filterkeys\n",
    "                n = k[ findfirst('[', k)+1: findfirst(']', k)-1]\n",
    "                a[n] = d[k]\n",
    "            end\n",
    "            return a\n",
    "        catch\n",
    "            println(\"error: \", filterkeys)\n",
    "        end\n",
    "        \n",
    "    end\n",
    "end"
   ]
  },
  {
   "cell_type": "code",
   "execution_count": 65,
   "metadata": {},
   "outputs": [
    {
     "data": {
      "text/plain": [
       "Dict{String, Vector{Float64}} with 3 entries:\n",
       "  \"15\" => [318.543, 313.228, 307.692, 320.523, 92.1232, 309.842, 322.762, 94.45…\n",
       "  \"10\" => [94.83, 89.493, 83.9336, 96.74, 91.4825, 86.006, 98.8987, 93.7312, 88…\n",
       "  \"5\"  => [315.983, 310.562, 304.915, 317.63, 89.1099, 306.703, 319.493, 91.049…"
      ]
     },
     "execution_count": 65,
     "metadata": {},
     "output_type": "execute_result"
    }
   ],
   "source": [
    "xi = get_vals(\"xi\", r)"
   ]
  },
  {
   "cell_type": "code",
   "execution_count": 66,
   "metadata": {},
   "outputs": [
    {
     "data": {
      "text/plain": [
       "Dict{String, Float64} with 5 entries:\n",
       "  \"17\" => 0.0435739\n",
       "  \"31\" => 0.0\n",
       "  \"34\" => 0.890921\n",
       "  \"22\" => 0.122285\n",
       "  \"9\"  => 0.970694"
      ]
     },
     "execution_count": 66,
     "metadata": {},
     "output_type": "execute_result"
    }
   ],
   "source": [
    "pv = get_vals(\"ypv\", r, T=0)"
   ]
  },
  {
   "cell_type": "code",
   "execution_count": 39,
   "metadata": {},
   "outputs": [
    {
     "data": {
      "text/plain": [
       "Dict{String, Vector{Float64}} with 37 entries:\n",
       "  \"21-22\" => [0.136087, 0.133532, 0.113894, 0.113031, 0.119028, 0.131037, 0.196…\n",
       "  \"13-14\" => [0.176791, 0.162161, 0.142497, 0.141604, 0.69702, 0.171869, 0.2688…\n",
       "  \"0-1\"   => [0.778784, 0.761265, 0.749562, 0.749169, 2.42774, 0.822769, 1.0813…\n",
       "  \"15-16\" => [0.159246, 0.150979, 0.131326, 0.130444, 0.136623, 0.154279, 0.239…\n",
       "  \"7-26\"  => [0.0108485, 0.0108485, 0.0108485, 0.0108485, 0.0109213, 0.0109764,…\n",
       "  \"4-5\"   => [0.745814, 0.72038, 0.705068, 0.703469, 2.38055, 0.774709, 1.03195…\n",
       "  \"16-17\" => [0.159246, 0.150979, 0.131326, 0.130444, 0.136623, 0.154279, 0.239…\n",
       "  \"5-6\"   => [0.732606, 0.707173, 0.691861, 0.690262, 1.81815, 0.761454, 1.0185…\n",
       "  \"11-12\" => [0.280519, 0.265814, 0.260379, 0.260049, 0.821037, 0.291281, 0.392…\n",
       "  \"20-21\" => [0.136087, 0.133532, 0.113894, 0.113031, 0.119028, 0.131037, 0.196…\n",
       "  \"7-29\"  => [0.243068, 0.239053, 0.253881, 0.25419, 0.263931, 0.268764, 0.3305…\n",
       "  \"6-7\"   => [0.692524, 0.668367, 0.658969, 0.657646, 1.78451, 0.72474, 0.96385…\n",
       "  \"6-37\"  => [0.0, 0.0, 0.0, 0.0, 0.0, 0.0, 0.0, 0.0, 0.0, 0.0  …  0.0, 0.0, 0.…\n",
       "  \"18-19\" => [0.145946, 0.140536, 0.12089, 0.120018, 0.126106, 0.140938, 0.2159…\n",
       "  \"24-25\" => [0.122252, 0.119773, 0.100122, 0.0992248, 0.103663, 0.112467, 0.17…\n",
       "  \"12-13\" => [0.268376, 0.2537, 0.247408, 0.247508, 0.807666, 0.278501, 0.37907…\n",
       "  \"8-9\"   => [0.132112, 0.126776, 0.107118, 0.106212, 0.659888, 0.122368, 0.193…\n",
       "  \"6-36\"  => [0.0400823, 0.038806, 0.0328915, 0.032616, 0.0336317, 0.0367146, 0…\n",
       "  \"23-24\" => [0.122252, 0.119773, 0.100122, 0.0992248, 0.103663, 0.112467, 0.17…\n",
       "  \"34-35\" => [0.091585, 0.0915392, 0.10491, 0.105904, 0.110646, 0.106632, 0.110…\n",
       "  \"31-32\" => [0.199249, 0.18732, 0.198539, 0.197641, 0.205822, 0.209727, 0.2701…\n",
       "  \"22-23\" => [0.122252, 0.119773, 0.100122, 0.0992248, 0.103663, 0.112467, 0.17…\n",
       "  \"7-11\"  => [0.294353, 0.279574, 0.274151, 0.273855, 0.836403, 0.309851, 0.414…\n",
       "  \"1-2\"   => [0.778784, 0.761265, 0.749562, 0.749169, 2.42774, 0.822769, 1.0813…\n",
       "  \"2-4\"   => [0.745814, 0.72038, 0.705068, 0.703469, 2.38055, 0.774709, 1.03195…\n",
       "  ⋮       => ⋮"
      ]
     },
     "execution_count": 39,
     "metadata": {},
     "output_type": "execute_result"
    }
   ],
   "source": [
    "Pij = get_vals(\"Pᵢⱼ\", r)"
   ]
  },
  {
   "cell_type": "code",
   "execution_count": 40,
   "metadata": {},
   "outputs": [
    {
     "data": {
      "text/plain": [
       "Dict{String, Float64} with 3 entries:\n",
       "  \"24\" => 0.0\n",
       "  \"2\"  => 0.0\n",
       "  \"7\"  => 0.0"
      ]
     },
     "execution_count": 40,
     "metadata": {},
     "output_type": "execute_result"
    }
   ],
   "source": [
    "bkw = get_vals(\"xbkW\", r; T=0)"
   ]
  },
  {
   "cell_type": "code",
   "execution_count": 41,
   "metadata": {},
   "outputs": [
    {
     "data": {
      "text/plain": [
       "Dict{String, Float64} with 3 entries:\n",
       "  \"24\" => 0.0\n",
       "  \"2\"  => 0.0\n",
       "  \"7\"  => 0.0"
      ]
     },
     "execution_count": 41,
     "metadata": {},
     "output_type": "execute_result"
    }
   ],
   "source": [
    "bkwh = get_vals(\"xbkWh\", r; T=0)"
   ]
  },
  {
   "cell_type": "code",
   "execution_count": 33,
   "metadata": {},
   "outputs": [
    {
     "data": {
      "text/plain": [
       "Dict{String, Vector{Float64}} with 5 entries:\n",
       "  \"17\" => [0.0, 0.0, 0.0, 0.0, 0.0, 0.0, 0.0, 0.0, 0.149313, 0.27345  …  0.3728…\n",
       "  \"31\" => [0.0, 0.0, 0.0, 0.0, 0.0, 0.0, 0.0, 0.0, 1.5862, 2.92152  …  0.649822…\n",
       "  \"34\" => [0.0, 0.0, 0.0, 0.0, 0.0, 0.0, 0.0, 0.0, 3.4532, 6.41499  …  8.71462,…\n",
       "  \"22\" => [0.0, 0.0, 0.0, 0.0, 0.0, 0.0, 0.0, 0.0, 0.557994, 1.03383  …  0.0, 0…\n",
       "  \"9\"  => [0.0, 0.0, 0.0, 0.0, 0.0, 0.0, 0.0, 0.0, 5.49669, 10.2489  …  14.0913…"
      ]
     },
     "execution_count": 33,
     "metadata": {},
     "output_type": "execute_result"
    }
   ],
   "source": [
    "ye = get_vals(\"ye\", r)"
   ]
  },
  {
   "cell_type": "code",
   "execution_count": 34,
   "metadata": {},
   "outputs": [
    {
     "data": {
      "text/plain": [
       "Dict{String, Vector{Float64}} with 5 entries:\n",
       "  \"17\" => [0.0, 0.0, 0.0, 0.0, 0.0, 0.0, 0.0, 0.0, 0.150885, 0.274954  …  0.374…\n",
       "  \"31\" => [0.0, 0.0, 0.0, 0.0, 0.0, 0.0, 0.0, 0.0, 1.35073, 2.4614  …  0.0, 2.6…\n",
       "  \"34\" => [0.0, 0.0, 0.0, 0.0, 0.0, 0.0, 0.0, 0.0, 3.58262, 6.52853  …  8.88856…\n",
       "  \"22\" => [0.0, 0.0, 0.0, 0.0, 0.0, 0.0, 0.0, 0.0, 0.576077, 1.04977  …  0.0137…\n",
       "  \"9\"  => [0.0, 0.0, 0.0, 0.0, 0.0, 0.0, 0.0, 0.0, 5.72784, 10.4377  …  14.2109…"
      ]
     },
     "execution_count": 34,
     "metadata": {},
     "output_type": "execute_result"
    }
   ],
   "source": [
    "ypvprod = get_vals(\"ypvprod\", r)"
   ]
  },
  {
   "cell_type": "code",
   "execution_count": 42,
   "metadata": {},
   "outputs": [
    {
     "data": {
      "text/plain": [
       "5-element Vector{String}:\n",
       " \"results_pwf1x.json\"\n",
       " \"results_pwf2x.json\"\n",
       " \"results_pwf3x.json\"\n",
       " \"results_pwf4x.json\"\n",
       " \"results_pwf5x.json\""
      ]
     },
     "execution_count": 42,
     "metadata": {},
     "output_type": "execute_result"
    }
   ],
   "source": [
    "results_list = [\n",
    "    \"results_pwf1x.json\", \n",
    "    \"results_pwf2x.json\", \n",
    "    \"results_pwf3x.json\", \n",
    "    \"results_pwf4x.json\", \n",
    "    \"results_pwf5x.json\"\n",
    "]"
   ]
  },
  {
   "cell_type": "code",
   "execution_count": 43,
   "metadata": {},
   "outputs": [],
   "source": [
    "rdicts = Dict[r]\n",
    "for rstr in results_list[2:end]\n",
    "    push!(rdicts, get_dict(rstr))\n",
    "end"
   ]
  },
  {
   "cell_type": "markdown",
   "metadata": {},
   "source": [
    "# capacity results"
   ]
  },
  {
   "cell_type": "code",
   "execution_count": 58,
   "metadata": {},
   "outputs": [],
   "source": [
    "pvs = Dict[]\n",
    "bkWs = Dict[]\n",
    "bkWhs = Dict[]\n",
    "for rd in rdicts\n",
    "    push!(pvs, get_vals(\"ypv\", rd, T=0))\n",
    "    push!(bkWs, get_vals(\"xbkW\", rd, T=0))\n",
    "    push!(bkWhs, get_vals(\"xbkWh\", rd, T=0))\n",
    "end"
   ]
  },
  {
   "cell_type": "code",
   "execution_count": 59,
   "metadata": {},
   "outputs": [
    {
     "name": "stdout",
     "output_type": "stream",
     "text": [
      "[0.044, 0.0, 0.891, 0.122, 0.971]\n",
      "[0.064, 0.0, 1.419, 0.189, 1.66]\n",
      "[0.143, 0.419, 2.841, 0.402, 3.499]\n",
      "[0.348, 2.664, 8.235, 1.532, 12.845]\n",
      "[0.559, 5.004, 13.273, 2.134, 21.22]\n"
     ]
    }
   ],
   "source": [
    "for pv in pvs\n",
    "    println([round(p, digits=3) for p in values(pv)])\n",
    "end"
   ]
  },
  {
   "cell_type": "code",
   "execution_count": 60,
   "metadata": {},
   "outputs": [
    {
     "name": "stdout",
     "output_type": "stream",
     "text": [
      "[0.0, 0.0, 0.0]\n",
      "[0.274, 0.288, 0.314]\n",
      "[0.768, 0.179, 0.0]\n",
      "[0.295, 0.351, 0.0]\n",
      "[0.342, 0.457, 0.275]\n"
     ]
    }
   ],
   "source": [
    "for b in bkWs\n",
    "    println([round(p, digits=3) for p in values(b)])\n",
    "end"
   ]
  },
  {
   "cell_type": "code",
   "execution_count": 62,
   "metadata": {},
   "outputs": [
    {
     "name": "stdout",
     "output_type": "stream",
     "text": [
      "[0.0, 0.0, 0.0]\n",
      "[0.577, 0.607, 0.662]\n",
      "[1.473, 0.341, 0.0]\n",
      "[0.621, 0.739, 0.0]\n",
      "[0.72, 0.962, 0.58]\n"
     ]
    }
   ],
   "source": [
    "for b in bkWhs\n",
    "    println([round(p, digits=3) for p in values(b)])\n",
    "end"
   ]
  },
  {
   "cell_type": "markdown",
   "metadata": {},
   "source": [
    "# cost results"
   ]
  },
  {
   "cell_type": "code",
   "execution_count": 51,
   "metadata": {},
   "outputs": [],
   "source": [
    "LLnodes_withPV = [\"9\", \"22\", \"31\", \"34\", \"17\"]\n",
    "LLnodes_warehouse = [\"5\", \"10\", \"15\"]\n",
    "\n",
    "xis = Dict[]\n",
    "yis = Dict[]\n",
    "xes = Dict[]\n",
    "yes = Dict[]\n",
    "for rd in rdicts\n",
    "    push!(xis, get_vals(\"xi\", rd, T=8760))\n",
    "    push!(yis, get_vals(\"yi\", rd, T=8760))\n",
    "    push!(xes, get_vals(\"xe\", rd, T=8760))\n",
    "    push!(yes, get_vals(\"ye\", rd, T=8760))\n",
    "end"
   ]
  },
  {
   "cell_type": "code",
   "execution_count": 53,
   "metadata": {},
   "outputs": [],
   "source": [
    "warehouse_cost = zeros(5)\n",
    "\n",
    "for i = 1:5\n",
    "    for n in LLnodes_warehouse\n",
    "       warehouse_cost[i] += sum(\n",
    "            yis[i][n] .* xis[i][n]\n",
    "        )\n",
    "    end\n",
    "end"
   ]
  },
  {
   "cell_type": "code",
   "execution_count": 110,
   "metadata": {},
   "outputs": [
    {
     "data": {
      "text/plain": [
       "8760-element Vector{Float64}:\n",
       " 317.3391962752986\n",
       " 311.97472250438346\n",
       " 306.38672899301355\n",
       " 319.16325936772245\n",
       "  90.70650483702758\n",
       " 315.7804474184536\n",
       " 328.94838272755584\n",
       " 100.89934167018737\n",
       "  95.81521909858556\n",
       " 109.11661503555293\n",
       " 104.37487885417468\n",
       "  99.43557033190568\n",
       " 112.88781423692802\n",
       "   ⋮\n",
       "  62.63004492717782\n",
       " 123.59669964479748\n",
       "  68.36666035221313\n",
       " 110.97498376349003\n",
       "  55.2190396425179\n",
       " 271.3998545417273\n",
       " 264.1212415319133\n",
       " 256.5393529800238\n",
       " 248.64155240513892\n",
       " 240.41467680629952\n",
       " 231.8450147241761\n",
       "   0.0"
      ]
     },
     "execution_count": 110,
     "metadata": {},
     "output_type": "execute_result"
    }
   ],
   "source": [
    "maximum(values(xis[5]))"
   ]
  },
  {
   "cell_type": "code",
   "execution_count": 54,
   "metadata": {},
   "outputs": [
    {
     "data": {
      "text/plain": [
       "5-element Vector{Float64}:\n",
       " 1.4526749800539404e7\n",
       " 1.4064967667953836e7\n",
       " 1.3868775260688901e7\n",
       " 1.3483482871665575e7\n",
       " 1.428228833847922e7"
      ]
     },
     "execution_count": 54,
     "metadata": {},
     "output_type": "execute_result"
    }
   ],
   "source": [
    "warehouse_cost"
   ]
  },
  {
   "cell_type": "code",
   "execution_count": 55,
   "metadata": {},
   "outputs": [
    {
     "data": {
      "text/plain": [
       "5-element Vector{Float64}:\n",
       "   330.3763110224797\n",
       "   771.9338445737885\n",
       "  2052.7800582555824\n",
       "  8016.518892143267\n",
       " 13288.78475772311"
      ]
     },
     "execution_count": 55,
     "metadata": {},
     "output_type": "execute_result"
    }
   ],
   "source": [
    "pv_benefit = zeros(5)\n",
    "\n",
    "for i = 1:5\n",
    "    for n in LLnodes_withPV\n",
    "       pv_benefit[i] += sum(\n",
    "            yes[i][n] .* xes[i][n]\n",
    "        )\n",
    "    end\n",
    "end\n",
    "pv_benefit"
   ]
  },
  {
   "cell_type": "code",
   "execution_count": 88,
   "metadata": {},
   "outputs": [],
   "source": [
    "x0s = Vector[]\n",
    "for rd in rdicts\n",
    "    push!(x0s, get_vals(\"x0\", rd, T=8760))\n",
    "end"
   ]
  },
  {
   "cell_type": "code",
   "execution_count": 89,
   "metadata": {},
   "outputs": [
    {
     "data": {
      "text/plain": [
       "5-element Vector{Float64}:\n",
       " 2520.881759154236\n",
       " 2388.944373344213\n",
       " 2236.2580754796327\n",
       " 1674.757982979163\n",
       " 1247.2198365359654"
      ]
     },
     "execution_count": 89,
     "metadata": {},
     "output_type": "execute_result"
    }
   ],
   "source": [
    "whl_cost = zeros(5)\n",
    "# NOTE not accounting for pwf and its scaler\n",
    "\n",
    "for i = 1:5\n",
    "    whl_cost[i] += sum(\n",
    "        clmp .* x0s[i]\n",
    "    )\n",
    "end\n",
    "whl_cost"
   ]
  },
  {
   "cell_type": "code",
   "execution_count": 94,
   "metadata": {},
   "outputs": [],
   "source": [
    "ULnodes_withBESS = [\"2\", \"7\", \"24\"]\n",
    "bplusses = zeros(5)\n",
    "\n",
    "for i = 1:5\n",
    "    bplusdict = get_vals(\"xbplus\", rdicts[i], T=8760)\n",
    "    for n in ULnodes_withBESS\n",
    "        bplusses[i] += sum(bplusdict[n])\n",
    "    end\n",
    "end"
   ]
  },
  {
   "cell_type": "code",
   "execution_count": 95,
   "metadata": {},
   "outputs": [
    {
     "data": {
      "text/plain": [
       "5-element Vector{Float64}:\n",
       "    0.0\n",
       " 1026.4807730426182\n",
       " 1020.5853364644552\n",
       "  752.0345354121262\n",
       " 1313.5196262529098"
      ]
     },
     "execution_count": 95,
     "metadata": {},
     "output_type": "execute_result"
    }
   ],
   "source": [
    "bplusses"
   ]
  },
  {
   "cell_type": "code",
   "execution_count": 102,
   "metadata": {},
   "outputs": [],
   "source": [
    "whl_energy_purchased = zeros(5)\n",
    "pv_energy_purchased = zeros(5)\n",
    "\n",
    "for i = 1:5\n",
    "    whl_energy_purchased[i] += sum(x0s[i])\n",
    "    pv_energy_purchased[i] += sum(sum(values(yes[i])))\n",
    "end"
   ]
  },
  {
   "cell_type": "code",
   "execution_count": 103,
   "metadata": {},
   "outputs": [
    {
     "data": {
      "text/plain": [
       "5-element Vector{Float64}:\n",
       " 129895.39437256625\n",
       " 127952.535597669\n",
       " 121799.65220969915\n",
       "  94092.88530047641\n",
       "  72352.46377115446"
      ]
     },
     "execution_count": 103,
     "metadata": {},
     "output_type": "execute_result"
    }
   ],
   "source": [
    "whl_energy_purchased"
   ]
  },
  {
   "cell_type": "code",
   "execution_count": 104,
   "metadata": {},
   "outputs": [
    {
     "data": {
      "text/plain": [
       "5-element Vector{Float64}:\n",
       "  2396.557296924839\n",
       "  4162.787431130075\n",
       "  9890.978717250542\n",
       " 36981.995971833785\n",
       " 61378.87145780142"
      ]
     },
     "execution_count": 104,
     "metadata": {},
     "output_type": "execute_result"
    }
   ],
   "source": [
    "pv_energy_purchased"
   ]
  },
  {
   "cell_type": "markdown",
   "metadata": {},
   "source": [
    "PV and cost trends make sense, but not sure about the battery trends. maybe due to voltage limits and excess PV?\n",
    "\n",
    "LinDistFlow is valid with back flow?"
   ]
  },
  {
   "cell_type": "code",
   "execution_count": 128,
   "metadata": {},
   "outputs": [],
   "source": [
    "maxvs = zeros(5)\n",
    "for i = 1:5\n",
    "    vdict = get_vals(\"vsqrd\", rdicts[i], T=8760)\n",
    "    maxvs[i] = maximum([maximum(sqrt.(v)) for v in values(vdict)])\n",
    "end"
   ]
  },
  {
   "cell_type": "code",
   "execution_count": 129,
   "metadata": {},
   "outputs": [
    {
     "data": {
      "text/plain": [
       "5-element Vector{Float64}:\n",
       " 1.0034177834335292\n",
       " 1.0054777847509568\n",
       " 1.011352705915531\n",
       " 1.0332572710462962\n",
       " 1.05"
      ]
     },
     "execution_count": 129,
     "metadata": {},
     "output_type": "execute_result"
    }
   ],
   "source": [
    "maxvs"
   ]
  },
  {
   "cell_type": "markdown",
   "metadata": {},
   "source": [
    "# plot day with peak price"
   ]
  },
  {
   "cell_type": "code",
   "execution_count": 111,
   "metadata": {},
   "outputs": [
    {
     "ename": "LoadError",
     "evalue": "ArgumentError: Package Plots not found in current path:\n- Run `import Pkg; Pkg.add(\"Plots\")` to install the Plots package.\n",
     "output_type": "error",
     "traceback": [
      "ArgumentError: Package Plots not found in current path:\n- Run `import Pkg; Pkg.add(\"Plots\")` to install the Plots package.\n",
      "",
      "Stacktrace:",
      " [1] require(into::Module, mod::Symbol)",
      "   @ Base ./loading.jl:893",
      " [2] eval",
      "   @ ./boot.jl:360 [inlined]",
      " [3] include_string(mapexpr::typeof(REPL.softscope), mod::Module, code::String, filename::String)",
      "   @ Base ./loading.jl:1116"
     ]
    }
   ],
   "source": [
    "using Plots"
   ]
  },
  {
   "cell_type": "code",
   "execution_count": null,
   "metadata": {},
   "outputs": [],
   "source": []
  }
 ],
 "metadata": {
  "@webio": {
   "lastCommId": null,
   "lastKernelId": null
  },
  "kernelspec": {
   "display_name": "Julia 1.6.5",
   "language": "julia",
   "name": "julia-1.6"
  },
  "language_info": {
   "file_extension": ".jl",
   "mimetype": "application/julia",
   "name": "julia",
   "version": "1.6.5"
  }
 },
 "nbformat": 4,
 "nbformat_minor": 2
}
