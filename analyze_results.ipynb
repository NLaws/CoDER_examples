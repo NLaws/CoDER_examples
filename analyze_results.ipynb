{
 "cells": [
  {
   "cell_type": "code",
   "execution_count": 1,
   "metadata": {},
   "outputs": [],
   "source": [
    "using JSON"
   ]
  },
  {
   "cell_type": "code",
   "execution_count": 2,
   "metadata": {},
   "outputs": [
    {
     "data": {
      "text/plain": [
       "get_dict"
      ]
     },
     "execution_count": 2,
     "metadata": {},
     "output_type": "execute_result"
    }
   ],
   "source": [
    "\"\"\"\n",
    "    get_dict(fp::String)\n",
    "\n",
    "load in a JSON file from `fp` and return a Dict\n",
    "\"\"\"\n",
    "function get_dict(fp::String)\n",
    "    JSON.parsefile(fp)\n",
    "end"
   ]
  },
  {
   "cell_type": "code",
   "execution_count": 36,
   "metadata": {},
   "outputs": [],
   "source": [
    "r = get_dict(\"results_pwf1x.json\");"
   ]
  },
  {
   "cell_type": "code",
   "execution_count": 25,
   "metadata": {},
   "outputs": [
    {
     "data": {
      "text/plain": [
       "get_vals"
      ]
     },
     "execution_count": 25,
     "metadata": {},
     "output_type": "execute_result"
    }
   ],
   "source": [
    "\"\"\"\n",
    "    get_vals(v::String, d::Dict)\n",
    "\n",
    "Given the variable name `v` find all values in Dict `d` \n",
    "that contain `v` in the keys\n",
    "\"\"\"\n",
    "function get_vals(s::String, d::Dict; T=8760)\n",
    "    filterkeys = filter(n -> startswith(n, s*\"[\"), keys(r))\n",
    "    if T > 1\n",
    "        try\n",
    "            nnodes = Int(length(filterkeys) / T)\n",
    "            a = Dict{String, Vector{Float64}}()\n",
    "            for k in filterkeys\n",
    "                n = k[ findfirst('[', k)+1: findfirst(',', k)-1]\n",
    "                t = parse(Int, k[ findfirst(',', k)+1: findfirst(']', k)-1])\n",
    "                if !(n in keys(a))\n",
    "                    a[n] = zeros(T)\n",
    "                end\n",
    "                a[n][t] = d[k]\n",
    "            end\n",
    "            return a\n",
    "        catch\n",
    "            println(filterkeys)\n",
    "        end\n",
    "    elseif T == 0\n",
    "        try\n",
    "            nnodes = Int(length(filterkeys))\n",
    "            a = Dict{String, Float64}()\n",
    "            for k in filterkeys\n",
    "                n = k[ findfirst('[', k)+1: findfirst(']', k)-1]\n",
    "                a[n] = d[k]\n",
    "            end\n",
    "            return a\n",
    "        catch\n",
    "            println(\"error: \", filterkeys)\n",
    "        end\n",
    "        \n",
    "    end\n",
    "end"
   ]
  },
  {
   "cell_type": "code",
   "execution_count": 37,
   "metadata": {},
   "outputs": [
    {
     "data": {
      "text/plain": [
       "Dict{String, Vector{Float64}} with 3 entries:\n",
       "  \"15\" => [318.543, 313.228, 307.692, 320.523, 92.1232, 309.842, 322.762, 94.45…\n",
       "  \"10\" => [94.83, 89.493, 83.9336, 96.74, 91.4825, 86.006, 98.8987, 93.7312, 88…\n",
       "  \"5\"  => [315.983, 310.562, 304.915, 317.63, 89.1099, 306.703, 319.493, 91.049…"
      ]
     },
     "execution_count": 37,
     "metadata": {},
     "output_type": "execute_result"
    }
   ],
   "source": [
    "xi = get_vals(\"xi\", r)"
   ]
  },
  {
   "cell_type": "code",
   "execution_count": 38,
   "metadata": {},
   "outputs": [
    {
     "data": {
      "text/plain": [
       "Dict{String, Float64} with 5 entries:\n",
       "  \"17\" => 0.0435739\n",
       "  \"31\" => 0.0\n",
       "  \"34\" => 0.890921\n",
       "  \"22\" => 0.122285\n",
       "  \"9\"  => 0.970694"
      ]
     },
     "execution_count": 38,
     "metadata": {},
     "output_type": "execute_result"
    }
   ],
   "source": [
    "pv = get_vals(\"ypv\", r, T=0)"
   ]
  },
  {
   "cell_type": "code",
   "execution_count": 39,
   "metadata": {},
   "outputs": [
    {
     "data": {
      "text/plain": [
       "Dict{String, Vector{Float64}} with 37 entries:\n",
       "  \"21-22\" => [0.136087, 0.133532, 0.113894, 0.113031, 0.119028, 0.131037, 0.196…\n",
       "  \"13-14\" => [0.176791, 0.162161, 0.142497, 0.141604, 0.69702, 0.171869, 0.2688…\n",
       "  \"0-1\"   => [0.778784, 0.761265, 0.749562, 0.749169, 2.42774, 0.822769, 1.0813…\n",
       "  \"15-16\" => [0.159246, 0.150979, 0.131326, 0.130444, 0.136623, 0.154279, 0.239…\n",
       "  \"7-26\"  => [0.0108485, 0.0108485, 0.0108485, 0.0108485, 0.0109213, 0.0109764,…\n",
       "  \"4-5\"   => [0.745814, 0.72038, 0.705068, 0.703469, 2.38055, 0.774709, 1.03195…\n",
       "  \"16-17\" => [0.159246, 0.150979, 0.131326, 0.130444, 0.136623, 0.154279, 0.239…\n",
       "  \"5-6\"   => [0.732606, 0.707173, 0.691861, 0.690262, 1.81815, 0.761454, 1.0185…\n",
       "  \"11-12\" => [0.280519, 0.265814, 0.260379, 0.260049, 0.821037, 0.291281, 0.392…\n",
       "  \"20-21\" => [0.136087, 0.133532, 0.113894, 0.113031, 0.119028, 0.131037, 0.196…\n",
       "  \"7-29\"  => [0.243068, 0.239053, 0.253881, 0.25419, 0.263931, 0.268764, 0.3305…\n",
       "  \"6-7\"   => [0.692524, 0.668367, 0.658969, 0.657646, 1.78451, 0.72474, 0.96385…\n",
       "  \"6-37\"  => [0.0, 0.0, 0.0, 0.0, 0.0, 0.0, 0.0, 0.0, 0.0, 0.0  …  0.0, 0.0, 0.…\n",
       "  \"18-19\" => [0.145946, 0.140536, 0.12089, 0.120018, 0.126106, 0.140938, 0.2159…\n",
       "  \"24-25\" => [0.122252, 0.119773, 0.100122, 0.0992248, 0.103663, 0.112467, 0.17…\n",
       "  \"12-13\" => [0.268376, 0.2537, 0.247408, 0.247508, 0.807666, 0.278501, 0.37907…\n",
       "  \"8-9\"   => [0.132112, 0.126776, 0.107118, 0.106212, 0.659888, 0.122368, 0.193…\n",
       "  \"6-36\"  => [0.0400823, 0.038806, 0.0328915, 0.032616, 0.0336317, 0.0367146, 0…\n",
       "  \"23-24\" => [0.122252, 0.119773, 0.100122, 0.0992248, 0.103663, 0.112467, 0.17…\n",
       "  \"34-35\" => [0.091585, 0.0915392, 0.10491, 0.105904, 0.110646, 0.106632, 0.110…\n",
       "  \"31-32\" => [0.199249, 0.18732, 0.198539, 0.197641, 0.205822, 0.209727, 0.2701…\n",
       "  \"22-23\" => [0.122252, 0.119773, 0.100122, 0.0992248, 0.103663, 0.112467, 0.17…\n",
       "  \"7-11\"  => [0.294353, 0.279574, 0.274151, 0.273855, 0.836403, 0.309851, 0.414…\n",
       "  \"1-2\"   => [0.778784, 0.761265, 0.749562, 0.749169, 2.42774, 0.822769, 1.0813…\n",
       "  \"2-4\"   => [0.745814, 0.72038, 0.705068, 0.703469, 2.38055, 0.774709, 1.03195…\n",
       "  ⋮       => ⋮"
      ]
     },
     "execution_count": 39,
     "metadata": {},
     "output_type": "execute_result"
    }
   ],
   "source": [
    "Pij = get_vals(\"Pᵢⱼ\", r)"
   ]
  },
  {
   "cell_type": "code",
   "execution_count": 40,
   "metadata": {},
   "outputs": [
    {
     "data": {
      "text/plain": [
       "Dict{String, Float64} with 3 entries:\n",
       "  \"24\" => 0.0\n",
       "  \"2\"  => 0.0\n",
       "  \"7\"  => 0.0"
      ]
     },
     "execution_count": 40,
     "metadata": {},
     "output_type": "execute_result"
    }
   ],
   "source": [
    "bkw = get_vals(\"xbkW\", r; T=0)"
   ]
  },
  {
   "cell_type": "code",
   "execution_count": 41,
   "metadata": {},
   "outputs": [
    {
     "data": {
      "text/plain": [
       "Dict{String, Float64} with 3 entries:\n",
       "  \"24\" => 0.0\n",
       "  \"2\"  => 0.0\n",
       "  \"7\"  => 0.0"
      ]
     },
     "execution_count": 41,
     "metadata": {},
     "output_type": "execute_result"
    }
   ],
   "source": [
    "bkwh = get_vals(\"xbkWh\", r; T=0)"
   ]
  },
  {
   "cell_type": "code",
   "execution_count": 33,
   "metadata": {},
   "outputs": [
    {
     "data": {
      "text/plain": [
       "Dict{String, Vector{Float64}} with 5 entries:\n",
       "  \"17\" => [0.0, 0.0, 0.0, 0.0, 0.0, 0.0, 0.0, 0.0, 0.149313, 0.27345  …  0.3728…\n",
       "  \"31\" => [0.0, 0.0, 0.0, 0.0, 0.0, 0.0, 0.0, 0.0, 1.5862, 2.92152  …  0.649822…\n",
       "  \"34\" => [0.0, 0.0, 0.0, 0.0, 0.0, 0.0, 0.0, 0.0, 3.4532, 6.41499  …  8.71462,…\n",
       "  \"22\" => [0.0, 0.0, 0.0, 0.0, 0.0, 0.0, 0.0, 0.0, 0.557994, 1.03383  …  0.0, 0…\n",
       "  \"9\"  => [0.0, 0.0, 0.0, 0.0, 0.0, 0.0, 0.0, 0.0, 5.49669, 10.2489  …  14.0913…"
      ]
     },
     "execution_count": 33,
     "metadata": {},
     "output_type": "execute_result"
    }
   ],
   "source": [
    "ye = get_vals(\"ye\", r)"
   ]
  },
  {
   "cell_type": "code",
   "execution_count": 34,
   "metadata": {},
   "outputs": [
    {
     "data": {
      "text/plain": [
       "Dict{String, Vector{Float64}} with 5 entries:\n",
       "  \"17\" => [0.0, 0.0, 0.0, 0.0, 0.0, 0.0, 0.0, 0.0, 0.150885, 0.274954  …  0.374…\n",
       "  \"31\" => [0.0, 0.0, 0.0, 0.0, 0.0, 0.0, 0.0, 0.0, 1.35073, 2.4614  …  0.0, 2.6…\n",
       "  \"34\" => [0.0, 0.0, 0.0, 0.0, 0.0, 0.0, 0.0, 0.0, 3.58262, 6.52853  …  8.88856…\n",
       "  \"22\" => [0.0, 0.0, 0.0, 0.0, 0.0, 0.0, 0.0, 0.0, 0.576077, 1.04977  …  0.0137…\n",
       "  \"9\"  => [0.0, 0.0, 0.0, 0.0, 0.0, 0.0, 0.0, 0.0, 5.72784, 10.4377  …  14.2109…"
      ]
     },
     "execution_count": 34,
     "metadata": {},
     "output_type": "execute_result"
    }
   ],
   "source": [
    "ypvprod = get_vals(\"ypvprod\", r)"
   ]
  },
  {
   "cell_type": "code",
   "execution_count": null,
   "metadata": {},
   "outputs": [],
   "source": []
  }
 ],
 "metadata": {
  "@webio": {
   "lastCommId": null,
   "lastKernelId": null
  },
  "kernelspec": {
   "display_name": "Julia 1.6.5",
   "language": "julia",
   "name": "julia-1.6"
  },
  "language_info": {
   "file_extension": ".jl",
   "mimetype": "application/julia",
   "name": "julia",
   "version": "1.6.5"
  }
 },
 "nbformat": 4,
 "nbformat_minor": 2
}
